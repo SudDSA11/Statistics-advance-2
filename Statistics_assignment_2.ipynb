{
  "nbformat": 4,
  "nbformat_minor": 0,
  "metadata": {
    "colab": {
      "provenance": []
    },
    "kernelspec": {
      "name": "python3",
      "display_name": "Python 3"
    },
    "language_info": {
      "name": "python"
    }
  },
  "cells": [
    {
      "cell_type": "markdown",
      "source": [
        "Question 1: What is hypothesis testing in statistics?"
      ],
      "metadata": {
        "id": "qwhOl-x8N_XA"
      }
    },
    {
      "cell_type": "code",
      "source": [
        "'''\n",
        "Hypothesis means guessing or making a claim or statement or an assumption about the population parameter that can be tested using statistical method.\n",
        "for eg average age of population is 45 years. We have made a claim.\n",
        "Due to time and resource constraint we can not go to each person of the population to record age, so we take a sample and calculate the average age of the sample\n",
        "check if the sample average age is close to the claim that we have made about the population\n",
        "They are of  two types of hypothesis :\n",
        "1. Null Hypothesis -  we make a claim , null hypothesis have equlity sign\n",
        "2. Alternate Hypothesis - we negate the claim made in null hypothesis.\n",
        "'''"
      ],
      "metadata": {
        "id": "Ch7tB7oTP_j3"
      },
      "execution_count": null,
      "outputs": []
    },
    {
      "cell_type": "markdown",
      "source": [
        "Question 2: What is the null hypothesis, and how does it differ from the alternative\n",
        "hypothesis?"
      ],
      "metadata": {
        "id": "QWlJjSfoQgYY"
      }
    },
    {
      "cell_type": "code",
      "source": [
        "'''\n",
        "The null hypothesis (H₀) is the default assumption in statistical testing that there is no effect, no difference,\n",
        "or no relationship between variables in the population — any observed effect in the sample is due to chance.\n",
        "\n",
        "The alternative hypothesis (H₁ or Ha) is the statement that there is an effect, a difference,\n",
        "or a relationship — meaning the observed effect is real and not due to random variation.\n",
        "'''"
      ],
      "metadata": {
        "id": "Fe0SwSjfQj5n"
      },
      "execution_count": null,
      "outputs": []
    },
    {
      "cell_type": "markdown",
      "source": [
        "Question 3: Explain the significance level in hypothesis testing and its role in deciding\n",
        "the outcome of a test."
      ],
      "metadata": {
        "id": "qV1ptZDqRE37"
      }
    },
    {
      "cell_type": "code",
      "source": [
        "'''\n",
        "The significance level (denoted as α) in hypothesis testing is the threshold probability used to decide whether to reject the null hypothesis (H₀).\n",
        "It represents the maximum risk of making a Type I error — rejecting H₀ when it’s actually true.\n",
        "'''\n"
      ],
      "metadata": {
        "id": "nbJ8V8FMRGX7"
      },
      "execution_count": null,
      "outputs": []
    },
    {
      "cell_type": "markdown",
      "source": [
        "Question 4: What are Type I and Type II errors? Give examples of each"
      ],
      "metadata": {
        "id": "rvHsnTGISYA3"
      }
    },
    {
      "cell_type": "code",
      "source": [
        "'''\n",
        "Type 1 error:-\n",
        " It is rejection of the null hypothesis when it is actually true\n",
        " example :- an innocent person is convicted\n",
        "Type 2 error:-\n",
        " It is failure of rejecting the null hypotheis when it is actually false\n",
        " example :- a guilty person may not be convicted\n",
        "Examples:-\n",
        "Scenario 1:- When an innocent person has been charged for a crime and in court he is convicted - This is type 1 error\n",
        "Scenario 2:- A guilty person has been charged but court did not find him guilty - This is type 2 error\n",
        "'''\n"
      ],
      "metadata": {
        "id": "p945j0gsSZXt"
      },
      "execution_count": null,
      "outputs": []
    },
    {
      "cell_type": "markdown",
      "source": [
        "Question 5: What is the difference between a Z-test and a T-test? Explain when to use\n",
        "each."
      ],
      "metadata": {
        "id": "o3bxq8OXTnCK"
      }
    },
    {
      "cell_type": "code",
      "source": [
        "'''\n",
        "A Z-test and a T-test are both statistical tests used to compare means, but they differ mainly in the information\n",
        "you have about the population and the sample size.\n",
        "    Z Test is used when:-\n",
        "1. Sasmple size is greater or equal to 30 (s.s>=30)\n",
        "2. Standard Deviation of the population is given (sigma is given)\n",
        "3. Distribution used: Standard Normal Distribution (Z-distribution, mean = 0, SD = 1).\n",
        "    T Test is used when:-\n",
        "1. Sample size is less than 30 (s.s<30)\n",
        "2. Standard Deviation of the population is not given (sigma is not given)\n",
        "3. Distribution used: Student’s T-distribution (heavier tails to account for extra uncertainty).\n",
        "'''\n"
      ],
      "metadata": {
        "id": "2xN9aqKHTp7x"
      },
      "execution_count": null,
      "outputs": []
    },
    {
      "cell_type": "markdown",
      "source": [
        "Question 6: Write a Python program to generate a binomial distribution with n=10 and\n",
        "p=0.5, then plot its histogram.\n",
        "\n"
      ],
      "metadata": {
        "id": "Nd36pqlhVMLN"
      }
    },
    {
      "cell_type": "code",
      "source": [
        "import numpy as np\n",
        "import pandas as pd\n",
        "import matplotlib.pyplot as plt\n",
        "import seaborn as sns\n",
        "import warnings\n",
        "warnings.filterwarnings('ignore')"
      ],
      "metadata": {
        "id": "p5hMs780VN6r"
      },
      "execution_count": 3,
      "outputs": []
    },
    {
      "cell_type": "code",
      "source": [
        "data = np.random.binomial(10,0.5,1000)"
      ],
      "metadata": {
        "id": "7tqiwyehVhT3"
      },
      "execution_count": 2,
      "outputs": []
    },
    {
      "cell_type": "code",
      "source": [
        "data"
      ],
      "metadata": {
        "colab": {
          "base_uri": "https://localhost:8080/"
        },
        "id": "EjQB8Ml4V8Nj",
        "outputId": "3f888616-70a2-4298-906c-4dae76049fca"
      },
      "execution_count": null,
      "outputs": [
        {
          "output_type": "execute_result",
          "data": {
            "text/plain": [
              "array([3, 6, 7, 4, 5, 9, 8, 7, 5, 3, 6, 7, 3, 4, 4, 3, 5, 3, 3, 5, 6, 5,\n",
              "       8, 4, 7, 3, 7, 3, 8, 3, 9, 7, 4, 6, 3, 4, 3, 4, 4, 6, 8, 6, 5, 4,\n",
              "       3, 5, 7, 4, 5, 4, 8, 7, 3, 3, 6, 4, 5, 6, 6, 2, 3, 4, 6, 2, 6, 7,\n",
              "       6, 4, 6, 8, 2, 3, 5, 8, 6, 5, 5, 4, 6, 7, 5, 4, 4, 4, 4, 7, 8, 4,\n",
              "       7, 5, 6, 4, 4, 7, 4, 6, 4, 4, 2, 6, 5, 6, 5, 7, 4, 6, 7, 6, 6, 6,\n",
              "       3, 4, 4, 5, 3, 6, 6, 6, 7, 3, 5, 6, 4, 4, 6, 3, 5, 4, 2, 5, 2, 5,\n",
              "       4, 5, 5, 5, 4, 7, 7, 5, 5, 5, 6, 5, 6, 4, 6, 4, 7, 5, 8, 6, 5, 7,\n",
              "       2, 4, 6, 6, 7, 7, 6, 4, 6, 5, 9, 3, 5, 8, 3, 7, 3, 6, 4, 5, 5, 6,\n",
              "       4, 5, 6, 5, 6, 6, 4, 4, 4, 3, 7, 7, 4, 2, 4, 5, 8, 6, 6, 5, 4, 6,\n",
              "       5, 6, 8, 4, 6, 7, 5, 5, 9, 4, 5, 4, 5, 6, 6, 6, 5, 2, 6, 5, 6, 7,\n",
              "       5, 5, 5, 6, 5, 7, 4, 5, 6, 5, 3, 3, 2, 5, 6, 9, 5, 4, 6, 5, 6, 4,\n",
              "       5, 7, 1, 5, 5, 5, 8, 5, 8, 5, 6, 7, 6, 2, 6, 4, 5, 4, 4, 7, 5, 6,\n",
              "       3, 4, 4, 6, 2, 5, 7, 6, 7, 3, 4, 4, 6, 3, 4, 5, 6, 5, 7, 4, 4, 6,\n",
              "       5, 9, 8, 8, 4, 6, 7, 6, 6, 5, 5, 3, 5, 5, 9, 3, 7, 3, 4, 5, 4, 4,\n",
              "       2, 7, 4, 6, 5, 4, 4, 7, 7, 5, 7, 3, 7, 7, 4, 8, 5, 6, 5, 7, 3, 5,\n",
              "       6, 5, 3, 4, 3, 6, 5, 4, 4, 5, 7, 5, 6, 4, 3, 7, 5, 4, 5, 5, 5, 7,\n",
              "       5, 6, 2, 6, 5, 7, 6, 4, 5, 5, 5, 4, 6, 3, 6, 2, 4, 5, 7, 6, 6, 4,\n",
              "       5, 4, 4, 6, 3, 3, 4, 4, 5, 3, 6, 4, 4, 8, 3, 3, 7, 7, 5, 5, 3, 5,\n",
              "       3, 6, 7, 5, 5, 6, 4, 3, 5, 4, 5, 5, 5, 6, 2, 7, 5, 2, 4, 8, 6, 5,\n",
              "       5, 5, 2, 5, 4, 1, 5, 4, 6, 6, 5, 7, 7, 5, 8, 6, 5, 6, 9, 8, 6, 8,\n",
              "       2, 4, 3, 5, 7, 7, 4, 1, 3, 4, 7, 5, 7, 3, 6, 5, 7, 5, 7, 7, 3, 8,\n",
              "       5, 5, 4, 4, 8, 4, 4, 6, 1, 5, 4, 5, 4, 7, 5, 7, 7, 7, 7, 7, 6, 4,\n",
              "       3, 4, 2, 5, 6, 6, 3, 5, 7, 3, 5, 6, 5, 5, 5, 5, 7, 3, 8, 6, 5, 5,\n",
              "       5, 3, 7, 3, 7, 5, 6, 5, 5, 5, 3, 5, 4, 4, 6, 6, 4, 6, 6, 7, 2, 3,\n",
              "       3, 3, 7, 5, 3, 7, 6, 6, 4, 6, 5, 7, 4, 6, 8, 5, 3, 9, 7, 6, 6, 5,\n",
              "       5, 7, 6, 5, 4, 7, 5, 3, 4, 6, 5, 5, 4, 5, 3, 6, 7, 8, 6, 3, 3, 5,\n",
              "       5, 2, 6, 6, 8, 7, 7, 4, 6, 7, 5, 6, 2, 4, 3, 5, 6, 6, 6, 7, 9, 2,\n",
              "       6, 3, 6, 7, 7, 5, 5, 5, 5, 5, 6, 3, 5, 3, 4, 4, 5, 6, 9, 5, 4, 4,\n",
              "       4, 8, 7, 9, 6, 6, 5, 4, 5, 3, 1, 3, 4, 5, 6, 3, 7, 4, 5, 3, 4, 5,\n",
              "       7, 3, 7, 4, 6, 9, 6, 2, 5, 2, 4, 6, 6, 6, 5, 8, 7, 5, 5, 6, 4, 4,\n",
              "       5, 5, 4, 6, 7, 8, 8, 5, 5, 4, 5, 3, 2, 4, 4, 5, 5, 8, 6, 4, 7, 6,\n",
              "       4, 6, 6, 6, 6, 4, 3, 6, 6, 7, 6, 5, 5, 3, 6, 7, 6, 3, 5, 6, 3, 7,\n",
              "       3, 3, 4, 4, 8, 4, 3, 6, 7, 6, 5, 4, 7, 3, 4, 3, 3, 4, 5, 4, 7, 7,\n",
              "       5, 6, 5, 6, 6, 3, 6, 8, 5, 5, 2, 4, 5, 5, 5, 4, 7, 5, 5, 4, 8, 2,\n",
              "       7, 5, 5, 4, 4, 5, 5, 4, 7, 5, 5, 5, 3, 4, 3, 6, 7, 6, 4, 3, 6, 4,\n",
              "       5, 6, 7, 4, 1, 4, 3, 4, 5, 4, 3, 9, 7, 7, 6, 5, 7, 2, 4, 6, 4, 6,\n",
              "       8, 5, 6, 3, 5, 5, 4, 5, 5, 4, 7, 4, 3, 6, 5, 6, 4, 6, 2, 4, 8, 1,\n",
              "       7, 2, 5, 4, 5, 4, 4, 7, 7, 5, 2, 6, 6, 7, 4, 2, 5, 4, 6, 8, 5, 4,\n",
              "       5, 2, 6, 5, 6, 6, 4, 4, 5, 7, 6, 7, 5, 5, 2, 6, 4, 3, 4, 4, 2, 3,\n",
              "       3, 4, 3, 5, 4, 5, 0, 6, 5, 6, 7, 3, 4, 8, 4, 6, 4, 5, 8, 4, 3, 5,\n",
              "       5, 2, 6, 5, 6, 5, 5, 5, 6, 5, 4, 4, 6, 5, 2, 5, 4, 7, 2, 4, 7, 4,\n",
              "       3, 7, 7, 7, 5, 3, 7, 3, 5, 4, 5, 7, 5, 5, 8, 4, 8, 5, 6, 5, 6, 6,\n",
              "       5, 4, 2, 4, 4, 6, 2, 3, 6, 4, 4, 6, 3, 2, 2, 3, 6, 6, 5, 3, 7, 2,\n",
              "       6, 5, 6, 7, 4, 6, 5, 5, 5, 4, 5, 8, 7, 6, 6, 6, 6, 5, 4, 9, 5, 3,\n",
              "       5, 4, 4, 7, 6, 5, 3, 5, 8, 4, 5, 7, 6, 6, 1, 5, 3, 5, 8, 6, 5, 5,\n",
              "       5, 8, 4, 4, 5, 5, 3, 6, 4, 4])"
            ]
          },
          "metadata": {},
          "execution_count": 5
        }
      ]
    },
    {
      "cell_type": "code",
      "source": [
        "plt.hist(data,edgecolor='black')\n",
        "plt.xlabel('Number of Successes')\n",
        "plt.ylabel('Frequency')\n",
        "plt.show()"
      ],
      "metadata": {
        "colab": {
          "base_uri": "https://localhost:8080/",
          "height": 449
        },
        "id": "IWhn-uViV9Fp",
        "outputId": "4b7b35af-e547-4e17-adc2-007e78629c3a"
      },
      "execution_count": null,
      "outputs": [
        {
          "output_type": "display_data",
          "data": {
            "text/plain": [
              "<Figure size 640x480 with 1 Axes>"
            ],
            "image/png": "[encoded data removed]"
          },
          "metadata": {}
        }
      ]
    },
    {
      "cell_type": "markdown",
      "source": [
        "Question 7: Implement hypothesis testing using Z-statistics for a sample dataset in\n",
        "Python. Show the Python code and interpret the results.\n",
        "sample_data = [49.1, 50.2, 51.0, 48.7, 50.5, 49.8, 50.3, 50.7, 50.2, 49.6,\n",
        "50.1, 49.9, 50.8, 50.4, 48.9, 50.6, 50.0, 49.7, 50.2, 49.5,\n",
        "50.1, 50.3, 50.4, 50.5, 50.0, 50.7, 49.3, 49.8, 50.2, 50.9,\n",
        "50.3, 50.4, 50.0, 49.7, 50.5, 49.9]"
      ],
      "metadata": {
        "id": "S_vOWNRm1_se"
      }
    },
    {
      "cell_type": "code",
      "source": [
        "sample_data = [49.1, 50.2, 51.0, 48.7, 50.5, 49.8, 50.3, 50.7, 50.2, 49.6, 50.1, 49.9, 50.8, 50.4, 48.9, 50.6, 50.0, 49.7, 50.2, 49.5, 50.1, 50.3, 50.4, 50.5, 50.0, 50.7, 49.3, 49.8, 50.2, 50.9, 50.3, 50.4, 50.0, 49.7, 50.5, 49.9]"
      ],
      "metadata": {
        "id": "_zr6PXchWEJf"
      },
      "execution_count": 6,
      "outputs": []
    },
    {
      "cell_type": "code",
      "source": [
        "sample_data"
      ],
      "metadata": {
        "colab": {
          "base_uri": "https://localhost:8080/"
        },
        "id": "oI0XU2fC2IzK",
        "outputId": "1e721c6b-7fb8-421b-eb15-ecbfe465f31c"
      },
      "execution_count": 7,
      "outputs": [
        {
          "output_type": "execute_result",
          "data": {
            "text/plain": [
              "[49.1,\n",
              " 50.2,\n",
              " 51.0,\n",
              " 48.7,\n",
              " 50.5,\n",
              " 49.8,\n",
              " 50.3,\n",
              " 50.7,\n",
              " 50.2,\n",
              " 49.6,\n",
              " 50.1,\n",
              " 49.9,\n",
              " 50.8,\n",
              " 50.4,\n",
              " 48.9,\n",
              " 50.6,\n",
              " 50.0,\n",
              " 49.7,\n",
              " 50.2,\n",
              " 49.5,\n",
              " 50.1,\n",
              " 50.3,\n",
              " 50.4,\n",
              " 50.5,\n",
              " 50.0,\n",
              " 50.7,\n",
              " 49.3,\n",
              " 49.8,\n",
              " 50.2,\n",
              " 50.9,\n",
              " 50.3,\n",
              " 50.4,\n",
              " 50.0,\n",
              " 49.7,\n",
              " 50.5,\n",
              " 49.9]"
            ]
          },
          "metadata": {},
          "execution_count": 7
        }
      ]
    },
    {
      "cell_type": "code",
      "source": [
        "# Convert to numpy array\n",
        "data = np.array(sample_data)\n",
        "\n",
        "# Hypothesized population mean\n",
        "mu_0 = 50\n",
        "\n",
        "# Sample statistics\n",
        "sample_mean = np.mean(data)\n",
        "sample_std = np.std(data, ddof=1)   # sample standard deviation\n",
        "n = len(data)"
      ],
      "metadata": {
        "id": "31BCvHI_FjXg"
      },
      "execution_count": 8,
      "outputs": []
    },
    {
      "cell_type": "code",
      "source": [
        "from scipy.stats import norm\n",
        "# Z-statistic\n",
        "z_stat = (sample_mean - mu_0) / (sample_std / np.sqrt(n))\n",
        "\n",
        "# p-value for two-tailed test\n",
        "p_value = 2 * (1 - norm.cdf(abs(z_stat)))"
      ],
      "metadata": {
        "id": "R_L5zq4pFvfI"
      },
      "execution_count": 10,
      "outputs": []
    },
    {
      "cell_type": "code",
      "source": [
        "print(f\"Sample Mean: {sample_mean:.3f}\")\n",
        "print(f\"Sample Std Dev: {sample_std:.3f}\")\n",
        "print(f\"Z-statistic: {z_stat:.3f}\")\n",
        "print(f\"P-value: {p_value:.5f}\")\n",
        "\n",
        "# Decision\n",
        "alpha = 0.05\n",
        "if p_value < alpha:\n",
        "    print(\"Reject the null hypothesis (significant evidence that mean ≠ 50).\")\n",
        "else:\n",
        "    print(\"Fail to reject the null hypothesis (no significant evidence that mean ≠ 50).\")"
      ],
      "metadata": {
        "colab": {
          "base_uri": "https://localhost:8080/"
        },
        "id": "bYkSP0WyF5W3",
        "outputId": "82c85087-ae8c-4252-9ec3-6e214bf009dd"
      },
      "execution_count": 11,
      "outputs": [
        {
          "output_type": "stream",
          "name": "stdout",
          "text": [
            "Sample Mean: 50.089\n",
            "Sample Std Dev: 0.537\n",
            "Z-statistic: 0.994\n",
            "P-value: 0.32021\n",
            "Fail to reject the null hypothesis (no significant evidence that mean ≠ 50).\n"
          ]
        }
      ]
    },
    {
      "cell_type": "markdown",
      "source": [
        "Question 8: Write a Python script to simulate data from a normal distribution and\n",
        "calculate the 95% confidence interval for its mean. Plot the data using Matplotlib.\n"
      ],
      "metadata": {
        "id": "GO40ONV87cPe"
      }
    },
    {
      "cell_type": "code",
      "source": [
        "from scipy.stats import norm"
      ],
      "metadata": {
        "id": "afXw0o7UAbGm"
      },
      "execution_count": null,
      "outputs": []
    },
    {
      "cell_type": "code",
      "source": [
        "s = np.random.normal(loc=30,scale=5,size=1000)"
      ],
      "metadata": {
        "id": "OJj7kWoj6yf-"
      },
      "execution_count": null,
      "outputs": []
    },
    {
      "cell_type": "code",
      "source": [
        "s"
      ],
      "metadata": {
        "colab": {
          "base_uri": "https://localhost:8080/"
        },
        "collapsed": true,
        "id": "_BxxXrGx8DQJ",
        "outputId": "d3aed10e-e61c-4e07-d86c-7b6a48a28e09"
      },
      "execution_count": null,
      "outputs": [
        {
          "output_type": "execute_result",
          "data": {
            "text/plain": [
              "array([29.10771068, 25.30483816, 26.51816803, 27.48292365, 29.66368455,\n",
              "       32.89978152, 20.70986368, 28.43977209, 32.22019404, 21.41157384,\n",
              "       36.22742486, 33.19742334, 23.52862497, 31.35518462, 35.84488389,\n",
              "       31.18651636, 32.2172748 , 32.56911192, 25.14058753, 25.58511747,\n",
              "       29.59284924, 30.85262739, 31.51652273, 29.9038315 , 26.4142414 ,\n",
              "       26.6208574 , 26.70226009, 26.83839108, 22.01133623, 27.57970629,\n",
              "       27.79184447, 36.00274404, 35.37414027, 34.2643005 , 31.44760479,\n",
              "       28.96604696, 32.836371  , 35.56099626, 38.81416258, 31.85966357,\n",
              "       25.90623599, 18.956239  , 29.31544743, 16.36578956, 29.38041411,\n",
              "       20.88610054, 28.0567987 , 32.29646365, 28.28200193, 36.14197859,\n",
              "       26.80837946, 24.29698963, 28.94127783, 30.21263867, 36.15097712,\n",
              "       26.58780532, 18.84532843, 21.48564952, 24.17267863, 23.08101874,\n",
              "       22.63514642, 38.89378739, 31.95595298, 30.58830577, 30.05891375,\n",
              "       38.97852737, 26.03036982, 25.55857864, 22.91745835, 25.59234178,\n",
              "       25.67098617, 26.18885158, 33.75633032, 20.95950935, 26.33506026,\n",
              "       26.52973153, 31.10464451, 29.13635397, 28.49473936, 28.99643055,\n",
              "       27.9570789 , 38.28995688, 39.49562555, 44.53479087, 22.79908887,\n",
              "       34.83492312, 21.85629769, 28.77287658, 38.48755589, 30.77808889,\n",
              "       40.80739222, 26.51405509, 28.57709711, 26.59804289, 30.83606203,\n",
              "       24.41219463, 34.49611037, 24.04351181, 26.45470067, 36.69003837,\n",
              "       19.67045509, 33.39660851, 30.7707989 , 34.67581562, 38.98326095,\n",
              "       34.98285389, 32.35283911, 31.01943676, 32.18215781, 31.3870839 ,\n",
              "       36.42891816, 22.32060135, 30.96216524, 35.90526551, 23.69371998,\n",
              "       28.17886739, 27.06702031, 31.38668808, 24.84992331, 32.56021459,\n",
              "       31.39397615, 34.75090062, 25.12405086, 27.71050204, 34.17058698,\n",
              "       33.68563634, 24.98524869, 29.21543112, 29.13058136, 30.60665063,\n",
              "       35.90035443, 29.10050339, 29.38945309, 20.90500406, 39.45564167,\n",
              "       27.44565536, 31.53326935, 35.54506239, 31.24013799, 31.18565198,\n",
              "       30.33831962, 32.68956717, 32.18187193, 31.88125147, 30.5363732 ,\n",
              "       30.18035014, 25.65145907, 27.34092003, 30.82212589, 11.23356108,\n",
              "       26.5252952 , 32.00748888, 24.22385644, 36.54471164, 33.30276427,\n",
              "       20.76099917, 32.68380052, 34.50759609, 27.96745382, 22.71495478,\n",
              "       28.47980515, 31.0930176 , 22.12890544, 20.18073583, 25.50988616,\n",
              "       31.41051245, 28.24141367, 29.85742889, 30.42529314, 38.18847402,\n",
              "       29.1230708 , 26.14812661, 32.52937087, 33.47507361, 25.65520068,\n",
              "       21.09037111, 33.60672854, 20.85701398, 31.56852025, 18.10608875,\n",
              "       28.28883506, 35.57893381, 38.10008832, 38.15087717, 36.42696655,\n",
              "       34.30013214, 32.88350858, 35.38037917, 26.20927743, 30.44861683,\n",
              "       20.40556023, 27.29947377, 40.13402333, 24.7570417 , 27.70897216,\n",
              "       34.85465132, 26.43128399, 24.75333689, 25.90887661, 34.33484494,\n",
              "       35.52607766, 25.71908747, 23.34122215, 27.67233813, 32.76976642,\n",
              "       31.15048545, 35.88308072, 31.83970277, 25.97366534, 32.62568777,\n",
              "       23.95942898, 33.04875816, 27.53947428, 24.43229321, 34.4964198 ,\n",
              "       34.55285805, 35.68498277, 32.98739088, 24.97446867, 25.94420999,\n",
              "       31.21790504, 19.89149278, 29.07445011, 26.92948323, 34.7815341 ,\n",
              "       31.46225664, 33.59140875, 33.44278315, 31.92896987, 36.01575984,\n",
              "       31.92850566, 32.33050728, 37.30798139, 26.17685569, 26.1456471 ,\n",
              "       21.35901414, 33.93638363, 30.09411588, 24.48313572, 33.3290321 ,\n",
              "       32.12604495, 28.14148661, 34.644257  , 27.94458659, 25.77634289,\n",
              "       26.2400779 , 33.40152611, 31.27248133, 24.14165005, 18.487897  ,\n",
              "       31.9009411 , 22.70265202, 29.97534847, 26.38641035, 31.81697076,\n",
              "       23.70106282, 30.66194388, 29.713891  , 33.46981165, 33.80542361,\n",
              "       28.46614256, 27.49968058, 37.75807207, 26.23713527, 29.14643109,\n",
              "       27.09340205, 31.55588945, 29.06326094, 20.36021459, 31.89174772,\n",
              "       27.51011126, 27.2311316 , 41.02880989, 31.26721841, 32.73016014,\n",
              "       28.29883333, 33.06940462, 37.75669546, 33.01021272, 28.17321665,\n",
              "       30.15708219, 35.86027397, 33.90249328, 35.63952641, 29.31848812,\n",
              "       31.92888359, 31.94436607, 30.40216693, 28.23878465, 28.83238775,\n",
              "       29.21711373, 25.42797067, 35.40096694, 22.03595535, 27.50508629,\n",
              "       28.26420711, 17.75447161, 35.70830686, 30.07775745, 27.62037768,\n",
              "       35.39910361, 37.13069315, 29.94426617, 28.37992417, 30.61456362,\n",
              "       29.88783982, 31.70601257, 30.70358186, 21.06568875, 27.54060248,\n",
              "       29.11653836, 33.14694956, 32.03093404, 24.40292206, 37.22691208,\n",
              "       29.71833278, 35.47190017, 32.58065514, 36.18236395, 25.21173243,\n",
              "       30.24155114, 32.38740289, 27.14752292, 30.62566766, 30.81771765,\n",
              "       30.69742248, 33.44902262, 29.39328842, 36.42484436, 27.3249057 ,\n",
              "       30.76340511, 22.88462113, 29.60255764, 24.73668656, 30.928096  ,\n",
              "       33.59509208, 29.70188354, 26.55752357, 28.76610693, 32.59643766,\n",
              "       31.83772154, 29.41794218, 31.01177282, 31.98933023, 33.46679708,\n",
              "       35.85089467, 35.89450209, 24.12376203, 24.7538903 , 22.74662266,\n",
              "       26.51482718, 34.2603419 , 23.98147701, 35.27259844, 31.39012529,\n",
              "       31.52569308, 25.6890991 , 30.82912507, 33.74315732, 26.35230648,\n",
              "       44.55151388, 30.04274454, 27.98908762, 27.77988731, 29.18211487,\n",
              "       30.78054497, 34.5385306 , 32.58979005, 37.20121022, 36.85133493,\n",
              "       34.75477613, 43.46785205, 22.90460465, 19.12285307, 33.17022708,\n",
              "       34.14904648, 35.27527013, 24.22200321, 28.05445336, 25.5673661 ,\n",
              "       31.46372496, 35.44963804, 37.70989502, 34.53632332, 24.28563951,\n",
              "       26.6194547 , 25.08128029, 23.23610514, 29.64486913, 28.05173506,\n",
              "       26.16447555, 23.06065546, 26.25222362, 20.46054979, 30.0797073 ,\n",
              "       31.68442325, 39.63947182, 24.49413835, 29.3566307 , 31.30039025,\n",
              "       30.6852344 , 26.69767375, 34.33201573, 36.81266742, 20.57795616,\n",
              "       31.58848994, 33.35985555, 20.91445795, 26.42718867, 37.73083896,\n",
              "       23.63669557, 29.1158475 , 33.67327372, 29.57187335, 29.6724066 ,\n",
              "       30.26275595, 26.97272094, 29.85498243, 24.25311277, 30.46313036,\n",
              "       33.38038688, 27.31993431, 33.59629956, 26.65181366, 30.11913542,\n",
              "       21.0506247 , 30.49703785, 27.3603598 , 29.40056408, 30.73801807,\n",
              "       24.31082711, 30.82620758, 31.22535239, 36.89431515, 34.81718786,\n",
              "       27.20769723, 28.36432469, 27.03061303, 25.34659489, 43.04607982,\n",
              "       27.6593684 , 34.52652705, 45.94603452, 33.58633307, 28.19202674,\n",
              "       33.46421538, 20.7357162 , 27.6287156 , 32.75405935, 31.75094378,\n",
              "       21.99047946, 29.68229565, 34.21399424, 30.59361672, 25.37261453,\n",
              "       33.60351373, 30.25970294, 24.49149602, 26.71429864, 38.3424717 ,\n",
              "       31.07930206, 26.5044857 , 36.06244412, 39.32104593, 16.88200292,\n",
              "       30.54868733, 26.1008238 , 30.1912357 , 30.30949325, 31.99639716,\n",
              "       30.07935687, 26.07475091, 23.61330923, 29.53842936, 31.65620878,\n",
              "       25.86204529, 29.51009407, 37.29692107, 25.32916157, 33.34611959,\n",
              "       24.47980834, 35.89218218, 27.18244808, 32.61532691, 34.65196162,\n",
              "       35.3975909 , 36.17271635, 27.13740748, 25.96255172, 35.52218187,\n",
              "       30.53881589, 21.90739405, 29.07783382, 30.58275297, 33.82178736,\n",
              "       26.77358473, 27.6547835 , 26.04298392, 29.61334692, 28.19253825,\n",
              "       39.76668213, 24.16663931, 34.92965394, 33.61091545, 23.18678587,\n",
              "       23.52289434, 26.97388448, 25.48465111, 32.65169392, 29.31524948,\n",
              "       27.27885919, 29.3758562 , 30.00083706, 27.17187568, 24.64488826,\n",
              "       30.59230413, 48.34954321, 29.68192554, 33.35525202, 33.95092628,\n",
              "       36.65748249, 37.00794134, 25.763724  , 26.51938696, 23.71109071,\n",
              "       32.40614679, 30.29311774, 35.65098413, 31.25898395, 33.39737346,\n",
              "       37.48862523, 34.88174481, 31.79590745, 37.50826263, 32.56716395,\n",
              "       27.50789539, 30.87865483, 30.11757306, 29.83099808, 24.88556111,\n",
              "       28.09644238, 29.6081109 , 28.62455625, 29.97045221, 23.64176364,\n",
              "       31.32236295, 28.99073475, 30.63451501, 32.47000612, 22.12923166,\n",
              "       28.30268898, 30.21135249, 23.18570928, 35.35779629, 31.61066485,\n",
              "       21.34822786, 26.0237533 , 31.82428211, 31.22104624, 38.4867926 ,\n",
              "       32.20588738, 29.95866307, 28.51095778, 32.1433155 , 41.32261497,\n",
              "       28.6789203 , 31.28070342, 33.18091265, 45.81408113, 31.07206452,\n",
              "       25.47084153, 34.58917291, 39.46166457, 34.43725863, 30.65582051,\n",
              "       23.41261771, 33.96907164, 34.1129525 , 24.64406459, 33.84617635,\n",
              "       28.59859735, 22.76035312, 31.05011094, 22.348507  , 26.71486301,\n",
              "       29.71689797, 20.69612244, 26.36971105, 33.31278273, 33.77666245,\n",
              "       29.97242883, 29.04887743, 36.97230966, 33.61773344, 30.22584472,\n",
              "       27.77962278, 23.33953121, 36.05335262, 35.34140425, 32.28464863,\n",
              "       25.37174022, 26.0849883 , 29.71003086, 34.44642588, 31.14864905,\n",
              "       30.59341692, 26.37732307, 27.41897481, 28.19766581, 37.93379323,\n",
              "       24.54245874, 32.83813358, 23.66872918, 36.4586349 , 28.8554045 ,\n",
              "       28.38156404, 25.75349461, 28.8065672 , 30.10163914, 34.59634326,\n",
              "       32.96004879, 28.76681242, 32.23872041, 33.69034538, 28.30970606,\n",
              "       37.10514271, 32.85806367, 32.6696386 , 27.13111626, 20.69945818,\n",
              "       39.92130304, 40.13012877, 28.00372481, 29.67506511, 26.88637762,\n",
              "       35.12268756, 26.86134526, 27.78100646, 14.31409823, 28.95048228,\n",
              "       31.48829007, 35.42540851, 36.23224915, 30.12180464, 34.97440603,\n",
              "       31.31432552, 30.18151968, 29.16921833, 38.78383047, 26.15585613,\n",
              "       30.21855318, 23.90834222, 33.65015911, 31.36326335, 36.73758612,\n",
              "       25.24068836, 32.14164314, 29.02087545, 31.26151043, 22.69694929,\n",
              "       28.29350589, 36.63221484, 24.59524476, 25.89860975, 28.77109784,\n",
              "       30.37222347, 26.20397452, 24.19441317, 35.4940471 , 27.72078579,\n",
              "       28.62677893, 32.73998643, 26.13257663, 31.32241274, 25.04658367,\n",
              "       37.04206023, 27.5427063 , 25.72353629, 32.07507932, 23.96179209,\n",
              "       22.67987039, 37.70634115, 32.92591031, 27.55761827, 33.7864121 ,\n",
              "       34.99663295, 35.71189963, 40.66766858, 32.98587832, 28.44286218,\n",
              "       28.14579743, 30.94704413, 36.45646535, 27.15238173, 26.9679668 ,\n",
              "       29.07149915, 28.06769064, 21.62193809, 39.13710165, 28.46267113,\n",
              "       31.51447121, 27.30250753, 29.40908868, 31.72489932, 30.24454073,\n",
              "       34.67966292, 34.14543951, 25.05745194, 33.40334219, 32.70197328,\n",
              "       18.65982831, 31.00851601, 31.82703379, 33.83922357, 33.4976152 ,\n",
              "       29.29995688, 24.36538734, 25.85919068, 31.65135987, 29.38783419,\n",
              "       27.04603544, 32.66836186, 34.86804599, 33.45554974, 36.18780415,\n",
              "       27.99334871, 29.36834794, 36.37616803, 23.5246705 , 27.56216899,\n",
              "       30.39355271, 21.70493014, 34.13702882, 33.73022943, 36.20345285,\n",
              "       28.48324307, 26.32121963, 26.05799907, 33.81525941, 31.51340738,\n",
              "       21.88517157, 31.37140781, 26.60737198, 29.11210818, 32.33297973,\n",
              "       31.10910988, 36.37517038, 26.7309051 , 27.96081604, 43.7042077 ,\n",
              "       25.81375655, 29.77157198, 31.31706582, 35.28167344, 32.66853958,\n",
              "       31.73681301, 27.87500796, 26.58895661, 31.54857181, 31.68641863,\n",
              "       26.47987245, 34.48660707, 28.74173676, 34.94354104, 35.26130762,\n",
              "       22.14524387, 32.61814947, 25.45998448, 28.49643659, 25.19141309,\n",
              "       23.04110498, 27.42650989, 23.33389832, 38.47090365, 26.52569166,\n",
              "       29.24183958, 31.37093082, 35.64800411, 29.09176399, 25.53050938,\n",
              "       20.22921436, 21.18846372, 30.51674068, 26.94940223, 33.68054518,\n",
              "       27.54705369, 28.15710773, 36.48399785, 22.65996567, 23.40942599,\n",
              "       27.04314839, 26.01588391, 37.7347215 , 25.78519857, 45.11132727,\n",
              "       22.07357367, 24.25956941, 26.21897555, 30.80517953, 35.27527588,\n",
              "       28.56030139, 35.90959103, 34.9379475 , 36.70756901, 38.20932646,\n",
              "       30.0125986 , 24.35807613, 20.47160557, 25.00438882, 27.02567555,\n",
              "       26.46554554, 29.0961458 , 28.61261367, 31.65751721, 36.08707742,\n",
              "       32.33388386, 33.33372238, 38.06197599, 26.72600699, 28.43400586,\n",
              "       23.06476532, 29.71308121, 29.90753078, 28.32069548, 36.48995937,\n",
              "       37.64887839, 31.87935543, 25.70512603, 24.35395882, 36.11948067,\n",
              "       24.22599352, 35.02868775, 26.14226001, 24.5413285 , 28.002963  ,\n",
              "       31.83855966, 28.93968496, 30.97672768, 23.51815615, 29.73027291,\n",
              "       38.95394839, 35.13200807, 17.75335793, 30.19157063, 27.49242703,\n",
              "       31.25302053, 32.69297594, 24.23772798, 24.07248214, 30.16040631,\n",
              "       25.18048352, 27.83155251, 32.94388226, 31.35791035, 26.09254372,\n",
              "       30.06329221, 24.88033527, 29.86325206, 34.24033685, 29.27632402,\n",
              "       34.77831955, 20.51510298, 28.93604926, 32.66399144, 35.27437979,\n",
              "       28.19088578, 30.76436321, 31.19096382, 32.01574874, 22.21825609,\n",
              "       40.64675194, 27.34990751, 34.79022301, 28.89121258, 33.59196815,\n",
              "       31.26930727, 25.21538062, 29.38705268, 30.92776735, 33.80964419,\n",
              "       30.47172026, 27.18245156, 22.68357722, 36.85944772, 27.05470289,\n",
              "       27.53127499, 37.39368008, 32.91944101, 24.37339914, 33.38837271,\n",
              "       29.66577151, 30.09629928, 38.56700318, 29.90252197, 29.72558589,\n",
              "       32.859561  , 33.34946936, 28.34002062, 36.92565618, 32.50469624,\n",
              "       22.33274819, 39.36256076, 33.20612202, 27.96350095, 24.97419269,\n",
              "       28.19800367, 20.90870048, 32.64089764, 27.59516644, 33.84345642,\n",
              "       23.7783549 , 29.5310585 , 25.08786554, 29.0550042 , 28.63890877,\n",
              "       27.02274588, 21.98345316, 29.0101458 , 29.8269868 , 25.15552959,\n",
              "       29.46834099, 40.89630562, 27.38619499, 22.30168307, 27.96556484,\n",
              "       25.42251479, 33.67812379, 31.48591089, 29.84642257, 27.19529123,\n",
              "       31.59891168, 36.14064816, 34.70183461, 33.48586495, 22.63527099,\n",
              "       31.39135116, 28.68113192, 28.66793088, 32.45085077, 32.66219833,\n",
              "       17.71825751, 39.23362349, 27.7147342 , 28.17417978, 20.37250205,\n",
              "       27.63100063, 31.36949239, 20.56068305, 28.69174428, 31.03348383,\n",
              "       31.7351715 , 33.62727057, 35.87310115, 26.07525448, 29.63297266,\n",
              "       22.54151943, 28.6890937 , 32.09809384, 31.57399583, 27.70669001,\n",
              "       33.42841769, 29.37433517, 37.45048115, 26.6593263 , 26.74843939,\n",
              "       25.45413803, 25.54922578, 26.56988246, 35.39284611, 30.66641893,\n",
              "       29.8998446 , 24.1407413 , 23.74874909, 32.27239255, 29.19403468,\n",
              "       33.94889447, 31.40460257, 25.62330815, 37.38193849, 26.18144985,\n",
              "       27.60004885, 29.50806966, 28.88631775, 32.1522769 , 36.43145917,\n",
              "       34.30466472, 37.66888492, 34.75973866, 36.02047715, 30.07998314,\n",
              "       35.94244156, 34.12738469, 30.6337286 , 32.41353503, 38.83063346,\n",
              "       28.949964  , 29.32866529, 26.59434541, 35.16909691, 22.8327746 ])"
            ]
          },
          "metadata": {},
          "execution_count": 19
        }
      ]
    },
    {
      "cell_type": "code",
      "source": [
        "mean = np.mean(s)"
      ],
      "metadata": {
        "id": "_FIhwtbl8h38"
      },
      "execution_count": null,
      "outputs": []
    },
    {
      "cell_type": "code",
      "source": [
        "mean"
      ],
      "metadata": {
        "colab": {
          "base_uri": "https://localhost:8080/"
        },
        "id": "XKsmELxQ8yvA",
        "outputId": "fff1ed65-6506-4ff2-a523-50e8b3e3ac72"
      },
      "execution_count": null,
      "outputs": [
        {
          "output_type": "execute_result",
          "data": {
            "text/plain": [
              "np.float64(29.94030118695226)"
            ]
          },
          "metadata": {},
          "execution_count": 22
        }
      ]
    },
    {
      "cell_type": "code",
      "source": [
        "std = np.std(s)"
      ],
      "metadata": {
        "id": "slqGZc_p8zme"
      },
      "execution_count": null,
      "outputs": []
    },
    {
      "cell_type": "code",
      "source": [
        "std"
      ],
      "metadata": {
        "colab": {
          "base_uri": "https://localhost:8080/"
        },
        "id": "S-y2CtVa82vt",
        "outputId": "a7bb56c4-b4d8-4984-aa67-22fdc6dac152"
      },
      "execution_count": null,
      "outputs": [
        {
          "output_type": "execute_result",
          "data": {
            "text/plain": [
              "np.float64(4.875807192071928)"
            ]
          },
          "metadata": {},
          "execution_count": 24
        }
      ]
    },
    {
      "cell_type": "code",
      "source": [
        "n = len(s)"
      ],
      "metadata": {
        "id": "ZBNCJ4Gj92Ee"
      },
      "execution_count": null,
      "outputs": []
    },
    {
      "cell_type": "code",
      "source": [
        "n"
      ],
      "metadata": {
        "colab": {
          "base_uri": "https://localhost:8080/"
        },
        "id": "ldAg2nU9947u",
        "outputId": "1096ed6f-3c2c-4fc1-cdea-05a2e3ae2265"
      },
      "execution_count": null,
      "outputs": [
        {
          "output_type": "execute_result",
          "data": {
            "text/plain": [
              "1000"
            ]
          },
          "metadata": {},
          "execution_count": 26
        }
      ]
    },
    {
      "cell_type": "code",
      "source": [
        "sample_mean =np.mean(s)"
      ],
      "metadata": {
        "id": "NY1OKznU_RG2"
      },
      "execution_count": null,
      "outputs": []
    },
    {
      "cell_type": "code",
      "source": [
        "sample_std = np.std(s, ddof=1)"
      ],
      "metadata": {
        "id": "DkX5fcqq_dFC"
      },
      "execution_count": null,
      "outputs": []
    },
    {
      "cell_type": "code",
      "source": [
        "#standard error\n",
        "se = sample_std/np.sqrt(n)"
      ],
      "metadata": {
        "id": "cwkjCi-y_hlz"
      },
      "execution_count": null,
      "outputs": []
    },
    {
      "cell_type": "code",
      "source": [
        "#confidence\n",
        "confidence = 0.95\n",
        "alpha = 1-confidence"
      ],
      "metadata": {
        "id": "43e6pnY5_vaF"
      },
      "execution_count": null,
      "outputs": []
    },
    {
      "cell_type": "code",
      "source": [
        "z_critical = norm.ppf(1 - alpha/2)"
      ],
      "metadata": {
        "id": "pPCyDdboACiX"
      },
      "execution_count": null,
      "outputs": []
    },
    {
      "cell_type": "code",
      "source": [
        "z_critical"
      ],
      "metadata": {
        "colab": {
          "base_uri": "https://localhost:8080/"
        },
        "id": "dkDgNr2CAUQ8",
        "outputId": "785f3910-d1f2-48a2-821b-e91379cb01ae"
      },
      "execution_count": null,
      "outputs": [
        {
          "output_type": "execute_result",
          "data": {
            "text/plain": [
              "np.float64(1.959963984540054)"
            ]
          },
          "metadata": {},
          "execution_count": 38
        }
      ]
    },
    {
      "cell_type": "code",
      "source": [
        "margin_error = z_critical*se"
      ],
      "metadata": {
        "id": "GiGSrpaXAmMT"
      },
      "execution_count": null,
      "outputs": []
    },
    {
      "cell_type": "code",
      "source": [
        "margin_error"
      ],
      "metadata": {
        "colab": {
          "base_uri": "https://localhost:8080/"
        },
        "id": "UwFrSTwlAvLg",
        "outputId": "208e48ef-9fa0-4d22-c4e7-3c3f65010c4e"
      },
      "execution_count": null,
      "outputs": [
        {
          "output_type": "execute_result",
          "data": {
            "text/plain": [
              "np.float64(0.3023513210854701)"
            ]
          },
          "metadata": {},
          "execution_count": 40
        }
      ]
    },
    {
      "cell_type": "code",
      "source": [
        "#confidence interval\n",
        "lower_bound =sample_mean -margin_error\n",
        "upper_bound = sample_mean + margin_error"
      ],
      "metadata": {
        "id": "W3p8mdGMAw32"
      },
      "execution_count": null,
      "outputs": []
    },
    {
      "cell_type": "code",
      "source": [
        "print(f'The 95% confidence interval is ({lower_bound},{upper_bound})')"
      ],
      "metadata": {
        "colab": {
          "base_uri": "https://localhost:8080/"
        },
        "id": "E0HM6waBBAyG",
        "outputId": "ce8c5d1e-a0de-4796-98f4-d08f876a2fd9"
      },
      "execution_count": null,
      "outputs": [
        {
          "output_type": "stream",
          "name": "stdout",
          "text": [
            "The 95% confidence interval is (29.63794986586679,30.242652508037732)\n"
          ]
        }
      ]
    },
    {
      "cell_type": "code",
      "source": [
        "# 4. Plot the data\n",
        "plt.figure(figsize=(8,5))\n",
        "plt.hist(s, bins=20, color=\"skyblue\", edgecolor=\"black\", alpha=0.7)\n",
        "plt.axvline(sample_mean, color=\"red\", linestyle=\"--\", linewidth=2, label=f\"Mean = {sample_mean:.2f}\")\n",
        "plt.axvline(lower_bound, color=\"green\", linestyle=\"--\", linewidth=2, label=f\"95% lower_bound = {lower_bound:.2f}\")\n",
        "plt.axvline(upper_bound, color=\"green\", linestyle=\"--\", linewidth=2, label=f\"95% upper_bound = {upper_bound:.2f}\")\n",
        "\n",
        "plt.title(\"Normal Distribution with 95% Confidence Interval\")\n",
        "plt.xlabel(\"Value\")\n",
        "plt.ylabel(\"Frequency\")\n",
        "plt.legend()\n",
        "plt.show()"
      ],
      "metadata": {
        "colab": {
          "base_uri": "https://localhost:8080/",
          "height": 487
        },
        "id": "cp9VpjkjBQ8K",
        "outputId": "53685df3-83a8-4089-d050-9b100b8847d8"
      },
      "execution_count": null,
      "outputs": [
        {
          "output_type": "display_data",
          "data": {
            "text/plain": [
              "<Figure size 800x500 with 1 Axes>"
            ],
            "image/png": "[encoded data removed]"
          },
          "metadata": {}
        }
      ]
    },
    {
      "cell_type": "markdown",
      "source": [
        "Question 9: Write a Python function to calculate the Z-scores from a dataset and\n",
        "visualize the standardized data using a histogram. Explain what the Z-scores represent\n",
        "in terms of standard deviations from the mean.\n"
      ],
      "metadata": {
        "id": "O_s4XVvFD6EG"
      }
    },
    {
      "cell_type": "code",
      "source": [
        "sns.get_dataset_names()"
      ],
      "metadata": {
        "colab": {
          "base_uri": "https://localhost:8080/"
        },
        "id": "fePyusN7Ctn9",
        "outputId": "7df54e17-d4a0-4f89-d797-67e430490a7f"
      },
      "execution_count": null,
      "outputs": [
        {
          "output_type": "execute_result",
          "data": {
            "text/plain": [
              "['anagrams',\n",
              " 'anscombe',\n",
              " 'attention',\n",
              " 'brain_networks',\n",
              " 'car_crashes',\n",
              " 'diamonds',\n",
              " 'dots',\n",
              " 'dowjones',\n",
              " 'exercise',\n",
              " 'flights',\n",
              " 'fmri',\n",
              " 'geyser',\n",
              " 'glue',\n",
              " 'healthexp',\n",
              " 'iris',\n",
              " 'mpg',\n",
              " 'penguins',\n",
              " 'planets',\n",
              " 'seaice',\n",
              " 'taxis',\n",
              " 'tips',\n",
              " 'titanic']"
            ]
          },
          "metadata": {},
          "execution_count": 49
        }
      ]
    },
    {
      "cell_type": "code",
      "source": [
        "df = sns.load_dataset(\"tips\")"
      ],
      "metadata": {
        "id": "XENBGySOEAcj"
      },
      "execution_count": null,
      "outputs": []
    },
    {
      "cell_type": "code",
      "source": [
        "df"
      ],
      "metadata": {
        "colab": {
          "base_uri": "https://localhost:8080/",
          "height": 423
        },
        "id": "4QpMfgWoEKnP",
        "outputId": "b9f154d7-4a2d-4c2a-bded-392faddbf74c"
      },
      "execution_count": null,
      "outputs": [
        {
          "output_type": "execute_result",
          "data": {
            "text/plain": [
              "     total_bill   tip     sex smoker   day    time  size\n",
              "0         16.99  1.01  Female     No   Sun  Dinner     2\n",
              "1         10.34  1.66    Male     No   Sun  Dinner     3\n",
              "2         21.01  3.50    Male     No   Sun  Dinner     3\n",
              "3         23.68  3.31    Male     No   Sun  Dinner     2\n",
              "4         24.59  3.61  Female     No   Sun  Dinner     4\n",
              "..          ...   ...     ...    ...   ...     ...   ...\n",
              "239       29.03  5.92    Male     No   Sat  Dinner     3\n",
              "240       27.18  2.00  Female    Yes   Sat  Dinner     2\n",
              "241       22.67  2.00    Male    Yes   Sat  Dinner     2\n",
              "242       17.82  1.75    Male     No   Sat  Dinner     2\n",
              "243       18.78  3.00  Female     No  Thur  Dinner     2\n",
              "\n",
              "[244 rows x 7 columns]"
            ],
            "text/html": [
              "\n",
              "  <div id=\"df-51e33aeb-2beb-46fc-a31c-6ebabf289940\" class=\"colab-df-container\">\n",
              "    <div>\n",
              "<style scoped>\n",
              "    .dataframe tbody tr th:only-of-type {\n",
              "        vertical-align: middle;\n",
              "    }\n",
              "\n",
              "    .dataframe tbody tr th {\n",
              "        vertical-align: top;\n",
              "    }\n",
              "\n",
              "    .dataframe thead th {\n",
              "        text-align: right;\n",
              "    }\n",
              "</style>\n",
              "<table border=\"1\" class=\"dataframe\">\n",
              "  <thead>\n",
              "    <tr style=\"text-align: right;\">\n",
              "      <th></th>\n",
              "      <th>total_bill</th>\n",
              "      <th>tip</th>\n",
              "      <th>sex</th>\n",
              "      <th>smoker</th>\n",
              "      <th>day</th>\n",
              "      <th>time</th>\n",
              "      <th>size</th>\n",
              "    </tr>\n",
              "  </thead>\n",
              "  <tbody>\n",
              "    <tr>\n",
              "      <th>0</th>\n",
              "      <td>16.99</td>\n",
              "      <td>1.01</td>\n",
              "      <td>Female</td>\n",
              "      <td>No</td>\n",
              "      <td>Sun</td>\n",
              "      <td>Dinner</td>\n",
              "      <td>2</td>\n",
              "    </tr>\n",
              "    <tr>\n",
              "      <th>1</th>\n",
              "      <td>10.34</td>\n",
              "      <td>1.66</td>\n",
              "      <td>Male</td>\n",
              "      <td>No</td>\n",
              "      <td>Sun</td>\n",
              "      <td>Dinner</td>\n",
              "      <td>3</td>\n",
              "    </tr>\n",
              "    <tr>\n",
              "      <th>2</th>\n",
              "      <td>21.01</td>\n",
              "      <td>3.50</td>\n",
              "      <td>Male</td>\n",
              "      <td>No</td>\n",
              "      <td>Sun</td>\n",
              "      <td>Dinner</td>\n",
              "      <td>3</td>\n",
              "    </tr>\n",
              "    <tr>\n",
              "      <th>3</th>\n",
              "      <td>23.68</td>\n",
              "      <td>3.31</td>\n",
              "      <td>Male</td>\n",
              "      <td>No</td>\n",
              "      <td>Sun</td>\n",
              "      <td>Dinner</td>\n",
              "      <td>2</td>\n",
              "    </tr>\n",
              "    <tr>\n",
              "      <th>4</th>\n",
              "      <td>24.59</td>\n",
              "      <td>3.61</td>\n",
              "      <td>Female</td>\n",
              "      <td>No</td>\n",
              "      <td>Sun</td>\n",
              "      <td>Dinner</td>\n",
              "      <td>4</td>\n",
              "    </tr>\n",
              "    <tr>\n",
              "      <th>...</th>\n",
              "      <td>...</td>\n",
              "      <td>...</td>\n",
              "      <td>...</td>\n",
              "      <td>...</td>\n",
              "      <td>...</td>\n",
              "      <td>...</td>\n",
              "      <td>...</td>\n",
              "    </tr>\n",
              "    <tr>\n",
              "      <th>239</th>\n",
              "      <td>29.03</td>\n",
              "      <td>5.92</td>\n",
              "      <td>Male</td>\n",
              "      <td>No</td>\n",
              "      <td>Sat</td>\n",
              "      <td>Dinner</td>\n",
              "      <td>3</td>\n",
              "    </tr>\n",
              "    <tr>\n",
              "      <th>240</th>\n",
              "      <td>27.18</td>\n",
              "      <td>2.00</td>\n",
              "      <td>Female</td>\n",
              "      <td>Yes</td>\n",
              "      <td>Sat</td>\n",
              "      <td>Dinner</td>\n",
              "      <td>2</td>\n",
              "    </tr>\n",
              "    <tr>\n",
              "      <th>241</th>\n",
              "      <td>22.67</td>\n",
              "      <td>2.00</td>\n",
              "      <td>Male</td>\n",
              "      <td>Yes</td>\n",
              "      <td>Sat</td>\n",
              "      <td>Dinner</td>\n",
              "      <td>2</td>\n",
              "    </tr>\n",
              "    <tr>\n",
              "      <th>242</th>\n",
              "      <td>17.82</td>\n",
              "      <td>1.75</td>\n",
              "      <td>Male</td>\n",
              "      <td>No</td>\n",
              "      <td>Sat</td>\n",
              "      <td>Dinner</td>\n",
              "      <td>2</td>\n",
              "    </tr>\n",
              "    <tr>\n",
              "      <th>243</th>\n",
              "      <td>18.78</td>\n",
              "      <td>3.00</td>\n",
              "      <td>Female</td>\n",
              "      <td>No</td>\n",
              "      <td>Thur</td>\n",
              "      <td>Dinner</td>\n",
              "      <td>2</td>\n",
              "    </tr>\n",
              "  </tbody>\n",
              "</table>\n",
              "<p>244 rows × 7 columns</p>\n",
              "</div>\n",
              "    <div class=\"colab-df-buttons\">\n",
              "\n",
              "  <div class=\"colab-df-container\">\n",
              "    <button class=\"colab-df-convert\" onclick=\"convertToInteractive('df-51e33aeb-2beb-46fc-a31c-6ebabf289940')\"\n",
              "            title=\"Convert this dataframe to an interactive table.\"\n",
              "            style=\"display:none;\">\n",
              "\n",
              "  <svg xmlns=\"http://www.w3.org/2000/svg\" height=\"24px\" viewBox=\"0 -960 960 960\">\n",
              "    <path d=\"M120-120v-720h720v720H120Zm60-500h600v-160H180v160Zm220 220h160v-160H400v160Zm0 220h160v-160H400v160ZM180-400h160v-160H180v160Zm440 0h160v-160H620v160ZM180-180h160v-160H180v160Zm440 0h160v-160H620v160Z\"/>\n",
              "  </svg>\n",
              "    </button>\n",
              "\n",
              "  <style>\n",
              "    .colab-df-container {\n",
              "      display:flex;\n",
              "      gap: 12px;\n",
              "    }\n",
              "\n",
              "    .colab-df-convert {\n",
              "      background-color: #E8F0FE;\n",
              "      border: none;\n",
              "      border-radius: 50%;\n",
              "      cursor: pointer;\n",
              "      display: none;\n",
              "      fill: #1967D2;\n",
              "      height: 32px;\n",
              "      padding: 0 0 0 0;\n",
              "      width: 32px;\n",
              "    }\n",
              "\n",
              "    .colab-df-convert:hover {\n",
              "      background-color: #E2EBFA;\n",
              "      box-shadow: 0px 1px 2px rgba(60, 64, 67, 0.3), 0px 1px 3px 1px rgba(60, 64, 67, 0.15);\n",
              "      fill: #174EA6;\n",
              "    }\n",
              "\n",
              "    .colab-df-buttons div {\n",
              "      margin-bottom: 4px;\n",
              "    }\n",
              "\n",
              "    [theme=dark] .colab-df-convert {\n",
              "      background-color: #3B4455;\n",
              "      fill: #D2E3FC;\n",
              "    }\n",
              "\n",
              "    [theme=dark] .colab-df-convert:hover {\n",
              "      background-color: #434B5C;\n",
              "      box-shadow: 0px 1px 3px 1px rgba(0, 0, 0, 0.15);\n",
              "      filter: drop-shadow(0px 1px 2px rgba(0, 0, 0, 0.3));\n",
              "      fill: #FFFFFF;\n",
              "    }\n",
              "  </style>\n",
              "\n",
              "    <script>\n",
              "      const buttonEl =\n",
              "        document.querySelector('#df-51e33aeb-2beb-46fc-a31c-6ebabf289940 button.colab-df-convert');\n",
              "      buttonEl.style.display =\n",
              "        google.colab.kernel.accessAllowed ? 'block' : 'none';\n",
              "\n",
              "      async function convertToInteractive(key) {\n",
              "        const element = document.querySelector('#df-51e33aeb-2beb-46fc-a31c-6ebabf289940');\n",
              "        const dataTable =\n",
              "          await google.colab.kernel.invokeFunction('convertToInteractive',\n",
              "                                                    [key], {});\n",
              "        if (!dataTable) return;\n",
              "\n",
              "        const docLinkHtml = 'Like what you see? Visit the ' +\n",
              "          '<a target=\"_blank\" href=https://colab.research.google.com/notebooks/data_table.ipynb>data table notebook</a>'\n",
              "          + ' to learn more about interactive tables.';\n",
              "        element.innerHTML = '';\n",
              "        dataTable['output_type'] = 'display_data';\n",
              "        await google.colab.output.renderOutput(dataTable, element);\n",
              "        const docLink = document.createElement('div');\n",
              "        docLink.innerHTML = docLinkHtml;\n",
              "        element.appendChild(docLink);\n",
              "      }\n",
              "    </script>\n",
              "  </div>\n",
              "\n",
              "\n",
              "    <div id=\"df-a26c8782-600b-4180-9bd9-dd8f6e5393a4\">\n",
              "      <button class=\"colab-df-quickchart\" onclick=\"quickchart('df-a26c8782-600b-4180-9bd9-dd8f6e5393a4')\"\n",
              "                title=\"Suggest charts\"\n",
              "                style=\"display:none;\">\n",
              "\n",
              "<svg xmlns=\"http://www.w3.org/2000/svg\" height=\"24px\"viewBox=\"0 0 24 24\"\n",
              "     width=\"24px\">\n",
              "    <g>\n",
              "        <path d=\"M19 3H5c-1.1 0-2 .9-2 2v14c0 1.1.9 2 2 2h14c1.1 0 2-.9 2-2V5c0-1.1-.9-2-2-2zM9 17H7v-7h2v7zm4 0h-2V7h2v10zm4 0h-2v-4h2v4z\"/>\n",
              "    </g>\n",
              "</svg>\n",
              "      </button>\n",
              "\n",
              "<style>\n",
              "  .colab-df-quickchart {\n",
              "      --bg-color: #E8F0FE;\n",
              "      --fill-color: #1967D2;\n",
              "      --hover-bg-color: #E2EBFA;\n",
              "      --hover-fill-color: #174EA6;\n",
              "      --disabled-fill-color: #AAA;\n",
              "      --disabled-bg-color: #DDD;\n",
              "  }\n",
              "\n",
              "  [theme=dark] .colab-df-quickchart {\n",
              "      --bg-color: #3B4455;\n",
              "      --fill-color: #D2E3FC;\n",
              "      --hover-bg-color: #434B5C;\n",
              "      --hover-fill-color: #FFFFFF;\n",
              "      --disabled-bg-color: #3B4455;\n",
              "      --disabled-fill-color: #666;\n",
              "  }\n",
              "\n",
              "  .colab-df-quickchart {\n",
              "    background-color: var(--bg-color);\n",
              "    border: none;\n",
              "    border-radius: 50%;\n",
              "    cursor: pointer;\n",
              "    display: none;\n",
              "    fill: var(--fill-color);\n",
              "    height: 32px;\n",
              "    padding: 0;\n",
              "    width: 32px;\n",
              "  }\n",
              "\n",
              "  .colab-df-quickchart:hover {\n",
              "    background-color: var(--hover-bg-color);\n",
              "    box-shadow: 0 1px 2px rgba(60, 64, 67, 0.3), 0 1px 3px 1px rgba(60, 64, 67, 0.15);\n",
              "    fill: var(--button-hover-fill-color);\n",
              "  }\n",
              "\n",
              "  .colab-df-quickchart-complete:disabled,\n",
              "  .colab-df-quickchart-complete:disabled:hover {\n",
              "    background-color: var(--disabled-bg-color);\n",
              "    fill: var(--disabled-fill-color);\n",
              "    box-shadow: none;\n",
              "  }\n",
              "\n",
              "  .colab-df-spinner {\n",
              "    border: 2px solid var(--fill-color);\n",
              "    border-color: transparent;\n",
              "    border-bottom-color: var(--fill-color);\n",
              "    animation:\n",
              "      spin 1s steps(1) infinite;\n",
              "  }\n",
              "\n",
              "  @keyframes spin {\n",
              "    0% {\n",
              "      border-color: transparent;\n",
              "      border-bottom-color: var(--fill-color);\n",
              "      border-left-color: var(--fill-color);\n",
              "    }\n",
              "    20% {\n",
              "      border-color: transparent;\n",
              "      border-left-color: var(--fill-color);\n",
              "      border-top-color: var(--fill-color);\n",
              "    }\n",
              "    30% {\n",
              "      border-color: transparent;\n",
              "      border-left-color: var(--fill-color);\n",
              "      border-top-color: var(--fill-color);\n",
              "      border-right-color: var(--fill-color);\n",
              "    }\n",
              "    40% {\n",
              "      border-color: transparent;\n",
              "      border-right-color: var(--fill-color);\n",
              "      border-top-color: var(--fill-color);\n",
              "    }\n",
              "    60% {\n",
              "      border-color: transparent;\n",
              "      border-right-color: var(--fill-color);\n",
              "    }\n",
              "    80% {\n",
              "      border-color: transparent;\n",
              "      border-right-color: var(--fill-color);\n",
              "      border-bottom-color: var(--fill-color);\n",
              "    }\n",
              "    90% {\n",
              "      border-color: transparent;\n",
              "      border-bottom-color: var(--fill-color);\n",
              "    }\n",
              "  }\n",
              "</style>\n",
              "\n",
              "      <script>\n",
              "        async function quickchart(key) {\n",
              "          const quickchartButtonEl =\n",
              "            document.querySelector('#' + key + ' button');\n",
              "          quickchartButtonEl.disabled = true;  // To prevent multiple clicks.\n",
              "          quickchartButtonEl.classList.add('colab-df-spinner');\n",
              "          try {\n",
              "            const charts = await google.colab.kernel.invokeFunction(\n",
              "                'suggestCharts', [key], {});\n",
              "          } catch (error) {\n",
              "            console.error('Error during call to suggestCharts:', error);\n",
              "          }\n",
              "          quickchartButtonEl.classList.remove('colab-df-spinner');\n",
              "          quickchartButtonEl.classList.add('colab-df-quickchart-complete');\n",
              "        }\n",
              "        (() => {\n",
              "          let quickchartButtonEl =\n",
              "            document.querySelector('#df-a26c8782-600b-4180-9bd9-dd8f6e5393a4 button');\n",
              "          quickchartButtonEl.style.display =\n",
              "            google.colab.kernel.accessAllowed ? 'block' : 'none';\n",
              "        })();\n",
              "      </script>\n",
              "    </div>\n",
              "\n",
              "  <div id=\"id_f1dbe1de-4a76-4172-a285-84c1f3c090ec\">\n",
              "    <style>\n",
              "      .colab-df-generate {\n",
              "        background-color: #E8F0FE;\n",
              "        border: none;\n",
              "        border-radius: 50%;\n",
              "        cursor: pointer;\n",
              "        display: none;\n",
              "        fill: #1967D2;\n",
              "        height: 32px;\n",
              "        padding: 0 0 0 0;\n",
              "        width: 32px;\n",
              "      }\n",
              "\n",
              "      .colab-df-generate:hover {\n",
              "        background-color: #E2EBFA;\n",
              "        box-shadow: 0px 1px 2px rgba(60, 64, 67, 0.3), 0px 1px 3px 1px rgba(60, 64, 67, 0.15);\n",
              "        fill: #174EA6;\n",
              "      }\n",
              "\n",
              "      [theme=dark] .colab-df-generate {\n",
              "        background-color: #3B4455;\n",
              "        fill: #D2E3FC;\n",
              "      }\n",
              "\n",
              "      [theme=dark] .colab-df-generate:hover {\n",
              "        background-color: #434B5C;\n",
              "        box-shadow: 0px 1px 3px 1px rgba(0, 0, 0, 0.15);\n",
              "        filter: drop-shadow(0px 1px 2px rgba(0, 0, 0, 0.3));\n",
              "        fill: #FFFFFF;\n",
              "      }\n",
              "    </style>\n",
              "    <button class=\"colab-df-generate\" onclick=\"generateWithVariable('df')\"\n",
              "            title=\"Generate code using this dataframe.\"\n",
              "            style=\"display:none;\">\n",
              "\n",
              "  <svg xmlns=\"http://www.w3.org/2000/svg\" height=\"24px\"viewBox=\"0 0 24 24\"\n",
              "       width=\"24px\">\n",
              "    <path d=\"M7,19H8.4L18.45,9,17,7.55,7,17.6ZM5,21V16.75L18.45,3.32a2,2,0,0,1,2.83,0l1.4,1.43a1.91,1.91,0,0,1,.58,1.4,1.91,1.91,0,0,1-.58,1.4L9.25,21ZM18.45,9,17,7.55Zm-12,3A5.31,5.31,0,0,0,4.9,8.1,5.31,5.31,0,0,0,1,6.5,5.31,5.31,0,0,0,4.9,4.9,5.31,5.31,0,0,0,6.5,1,5.31,5.31,0,0,0,8.1,4.9,5.31,5.31,0,0,0,12,6.5,5.46,5.46,0,0,0,6.5,12Z\"/>\n",
              "  </svg>\n",
              "    </button>\n",
              "    <script>\n",
              "      (() => {\n",
              "      const buttonEl =\n",
              "        document.querySelector('#id_f1dbe1de-4a76-4172-a285-84c1f3c090ec button.colab-df-generate');\n",
              "      buttonEl.style.display =\n",
              "        google.colab.kernel.accessAllowed ? 'block' : 'none';\n",
              "\n",
              "      buttonEl.onclick = () => {\n",
              "        google.colab.notebook.generateWithVariable('df');\n",
              "      }\n",
              "      })();\n",
              "    </script>\n",
              "  </div>\n",
              "\n",
              "    </div>\n",
              "  </div>\n"
            ],
            "application/vnd.google.colaboratory.intrinsic+json": {
              "type": "dataframe",
              "variable_name": "df",
              "summary": "{\n  \"name\": \"df\",\n  \"rows\": 244,\n  \"fields\": [\n    {\n      \"column\": \"total_bill\",\n      \"properties\": {\n        \"dtype\": \"number\",\n        \"std\": 8.902411954856856,\n        \"min\": 3.07,\n        \"max\": 50.81,\n        \"num_unique_values\": 229,\n        \"samples\": [\n          22.12,\n          20.23,\n          14.78\n        ],\n        \"semantic_type\": \"\",\n        \"description\": \"\"\n      }\n    },\n    {\n      \"column\": \"tip\",\n      \"properties\": {\n        \"dtype\": \"number\",\n        \"std\": 1.3836381890011826,\n        \"min\": 1.0,\n        \"max\": 10.0,\n        \"num_unique_values\": 123,\n        \"samples\": [\n          3.35,\n          1.5,\n          6.73\n        ],\n        \"semantic_type\": \"\",\n        \"description\": \"\"\n      }\n    },\n    {\n      \"column\": \"sex\",\n      \"properties\": {\n        \"dtype\": \"category\",\n        \"num_unique_values\": 2,\n        \"samples\": [\n          \"Male\",\n          \"Female\"\n        ],\n        \"semantic_type\": \"\",\n        \"description\": \"\"\n      }\n    },\n    {\n      \"column\": \"smoker\",\n      \"properties\": {\n        \"dtype\": \"category\",\n        \"num_unique_values\": 2,\n        \"samples\": [\n          \"Yes\",\n          \"No\"\n        ],\n        \"semantic_type\": \"\",\n        \"description\": \"\"\n      }\n    },\n    {\n      \"column\": \"day\",\n      \"properties\": {\n        \"dtype\": \"category\",\n        \"num_unique_values\": 4,\n        \"samples\": [\n          \"Sat\",\n          \"Fri\"\n        ],\n        \"semantic_type\": \"\",\n        \"description\": \"\"\n      }\n    },\n    {\n      \"column\": \"time\",\n      \"properties\": {\n        \"dtype\": \"category\",\n        \"num_unique_values\": 2,\n        \"samples\": [\n          \"Lunch\",\n          \"Dinner\"\n        ],\n        \"semantic_type\": \"\",\n        \"description\": \"\"\n      }\n    },\n    {\n      \"column\": \"size\",\n      \"properties\": {\n        \"dtype\": \"number\",\n        \"std\": 0,\n        \"min\": 1,\n        \"max\": 6,\n        \"num_unique_values\": 6,\n        \"samples\": [\n          2,\n          3\n        ],\n        \"semantic_type\": \"\",\n        \"description\": \"\"\n      }\n    }\n  ]\n}"
            }
          },
          "metadata": {},
          "execution_count": 51
        }
      ]
    },
    {
      "cell_type": "code",
      "source": [
        "df1 = df[\"total_bill\"]"
      ],
      "metadata": {
        "id": "33hlhoRpELO2"
      },
      "execution_count": null,
      "outputs": []
    },
    {
      "cell_type": "code",
      "source": [
        "df1"
      ],
      "metadata": {
        "colab": {
          "base_uri": "https://localhost:8080/",
          "height": 458
        },
        "id": "uFqipVdNEyXr",
        "outputId": "910609fd-1d27-4ead-ac73-8d1cf42c905e"
      },
      "execution_count": null,
      "outputs": [
        {
          "output_type": "execute_result",
          "data": {
            "text/plain": [
              "0      16.99\n",
              "1      10.34\n",
              "2      21.01\n",
              "3      23.68\n",
              "4      24.59\n",
              "       ...  \n",
              "239    29.03\n",
              "240    27.18\n",
              "241    22.67\n",
              "242    17.82\n",
              "243    18.78\n",
              "Name: total_bill, Length: 244, dtype: float64"
            ],
            "text/html": [
              "<div>\n",
              "<style scoped>\n",
              "    .dataframe tbody tr th:only-of-type {\n",
              "        vertical-align: middle;\n",
              "    }\n",
              "\n",
              "    .dataframe tbody tr th {\n",
              "        vertical-align: top;\n",
              "    }\n",
              "\n",
              "    .dataframe thead th {\n",
              "        text-align: right;\n",
              "    }\n",
              "</style>\n",
              "<table border=\"1\" class=\"dataframe\">\n",
              "  <thead>\n",
              "    <tr style=\"text-align: right;\">\n",
              "      <th></th>\n",
              "      <th>total_bill</th>\n",
              "    </tr>\n",
              "  </thead>\n",
              "  <tbody>\n",
              "    <tr>\n",
              "      <th>0</th>\n",
              "      <td>16.99</td>\n",
              "    </tr>\n",
              "    <tr>\n",
              "      <th>1</th>\n",
              "      <td>10.34</td>\n",
              "    </tr>\n",
              "    <tr>\n",
              "      <th>2</th>\n",
              "      <td>21.01</td>\n",
              "    </tr>\n",
              "    <tr>\n",
              "      <th>3</th>\n",
              "      <td>23.68</td>\n",
              "    </tr>\n",
              "    <tr>\n",
              "      <th>4</th>\n",
              "      <td>24.59</td>\n",
              "    </tr>\n",
              "    <tr>\n",
              "      <th>...</th>\n",
              "      <td>...</td>\n",
              "    </tr>\n",
              "    <tr>\n",
              "      <th>239</th>\n",
              "      <td>29.03</td>\n",
              "    </tr>\n",
              "    <tr>\n",
              "      <th>240</th>\n",
              "      <td>27.18</td>\n",
              "    </tr>\n",
              "    <tr>\n",
              "      <th>241</th>\n",
              "      <td>22.67</td>\n",
              "    </tr>\n",
              "    <tr>\n",
              "      <th>242</th>\n",
              "      <td>17.82</td>\n",
              "    </tr>\n",
              "    <tr>\n",
              "      <th>243</th>\n",
              "      <td>18.78</td>\n",
              "    </tr>\n",
              "  </tbody>\n",
              "</table>\n",
              "<p>244 rows × 1 columns</p>\n",
              "</div><br><label><b>dtype:</b> float64</label>"
            ]
          },
          "metadata": {},
          "execution_count": 53
        }
      ]
    },
    {
      "cell_type": "code",
      "source": [
        "df1.describe() #five point summary"
      ],
      "metadata": {
        "colab": {
          "base_uri": "https://localhost:8080/",
          "height": 335
        },
        "id": "3j-AUxpfLGjW",
        "outputId": "0018c6cf-424b-41c9-e313-7d5f7e282107"
      },
      "execution_count": null,
      "outputs": [
        {
          "output_type": "execute_result",
          "data": {
            "text/plain": [
              "count    244.000000\n",
              "mean      19.785943\n",
              "std        8.902412\n",
              "min        3.070000\n",
              "25%       13.347500\n",
              "50%       17.795000\n",
              "75%       24.127500\n",
              "max       50.810000\n",
              "Name: total_bill, dtype: float64"
            ],
            "text/html": [
              "<div>\n",
              "<style scoped>\n",
              "    .dataframe tbody tr th:only-of-type {\n",
              "        vertical-align: middle;\n",
              "    }\n",
              "\n",
              "    .dataframe tbody tr th {\n",
              "        vertical-align: top;\n",
              "    }\n",
              "\n",
              "    .dataframe thead th {\n",
              "        text-align: right;\n",
              "    }\n",
              "</style>\n",
              "<table border=\"1\" class=\"dataframe\">\n",
              "  <thead>\n",
              "    <tr style=\"text-align: right;\">\n",
              "      <th></th>\n",
              "      <th>total_bill</th>\n",
              "    </tr>\n",
              "  </thead>\n",
              "  <tbody>\n",
              "    <tr>\n",
              "      <th>count</th>\n",
              "      <td>244.000000</td>\n",
              "    </tr>\n",
              "    <tr>\n",
              "      <th>mean</th>\n",
              "      <td>19.785943</td>\n",
              "    </tr>\n",
              "    <tr>\n",
              "      <th>std</th>\n",
              "      <td>8.902412</td>\n",
              "    </tr>\n",
              "    <tr>\n",
              "      <th>min</th>\n",
              "      <td>3.070000</td>\n",
              "    </tr>\n",
              "    <tr>\n",
              "      <th>25%</th>\n",
              "      <td>13.347500</td>\n",
              "    </tr>\n",
              "    <tr>\n",
              "      <th>50%</th>\n",
              "      <td>17.795000</td>\n",
              "    </tr>\n",
              "    <tr>\n",
              "      <th>75%</th>\n",
              "      <td>24.127500</td>\n",
              "    </tr>\n",
              "    <tr>\n",
              "      <th>max</th>\n",
              "      <td>50.810000</td>\n",
              "    </tr>\n",
              "  </tbody>\n",
              "</table>\n",
              "</div><br><label><b>dtype:</b> float64</label>"
            ]
          },
          "metadata": {},
          "execution_count": 78
        }
      ]
    },
    {
      "cell_type": "code",
      "source": [
        "mean=np.mean(df1) #calculating the mean of the sample"
      ],
      "metadata": {
        "colab": {
          "base_uri": "https://localhost:8080/"
        },
        "id": "gCp71g8-E_O6",
        "outputId": "96879426-5e51-429d-ae96-049a5b650ee1"
      },
      "execution_count": null,
      "outputs": [
        {
          "output_type": "execute_result",
          "data": {
            "text/plain": [
              "np.float64(19.78594262295082)"
            ]
          },
          "metadata": {},
          "execution_count": 60
        }
      ]
    },
    {
      "cell_type": "code",
      "source": [
        "std=np.std(df1,ddof=1) #calculating the standard devaition"
      ],
      "metadata": {
        "id": "zWI1GA3ZFTfZ"
      },
      "execution_count": null,
      "outputs": []
    },
    {
      "cell_type": "code",
      "source": [
        "z_score = (df1-mean)/std"
      ],
      "metadata": {
        "id": "txZlZxhfGm1n"
      },
      "execution_count": null,
      "outputs": []
    },
    {
      "cell_type": "code",
      "source": [
        "print(\"Mean of data:\", round(mean, 2))\n",
        "print(\"Standard Deviation of data:\", round(std, 2))\n",
        "print(\"First 10 Z-scores:\", np.round(z_scores[:10], 2))"
      ],
      "metadata": {
        "colab": {
          "base_uri": "https://localhost:8080/"
        },
        "id": "DaznqbyHGzsY",
        "outputId": "644bfa82-16db-492b-a46f-d148cfd68d62"
      },
      "execution_count": null,
      "outputs": [
        {
          "output_type": "stream",
          "name": "stdout",
          "text": [
            "Mean of data: 19.79\n",
            "Standard Deviation of data: 8.9\n",
            "First 10 Z-scores: 0   -0.31\n",
            "1   -1.06\n",
            "2    0.14\n",
            "3    0.44\n",
            "4    0.54\n",
            "5    0.62\n",
            "6   -1.24\n",
            "7    0.80\n",
            "8   -0.53\n",
            "9   -0.56\n",
            "Name: total_bill, dtype: float64\n"
          ]
        }
      ]
    },
    {
      "cell_type": "code",
      "source": [
        "#plotting the dataset\n",
        "plt.figure(figsize=(8,5))\n",
        "plt.hist(z_scores, bins=20, color=\"yellow\", edgecolor=\"black\", alpha=0.7)\n",
        "plt.axvline(0, color=\"blue\", linestyle=\"--\", linewidth=2, label=\"Mean (Z=0)\")\n",
        "plt.axvline(1, color=\"red\", linestyle=\"--\", linewidth=1, label=\"Z=+1\")\n",
        "plt.axvline(-1, color=\"red\", linestyle=\"--\", linewidth=1, label=\"Z=-1\")\n",
        "plt.axvline(2, color=\"black\", linestyle=\"--\", linewidth=1, label=\"Z=+2\")\n",
        "plt.axvline(-2, color=\"black\", linestyle=\"--\", linewidth=1, label=\"Z=-2\")\n",
        "plt.title(\"Histogram of Z-scores (Standardized Data)\")\n",
        "plt.xlabel(\"Z-score\")\n",
        "plt.ylabel(\"frequency\")\n",
        "plt.legend()\n",
        "plt.show()"
      ],
      "metadata": {
        "colab": {
          "base_uri": "https://localhost:8080/",
          "height": 487
        },
        "id": "5-DZyqEBG6bT",
        "outputId": "7e8d4a7e-d0f3-4fad-e2b8-97f0b4057c20"
      },
      "execution_count": null,
      "outputs": [
        {
          "output_type": "display_data",
          "data": {
            "text/plain": [
              "<Figure size 800x500 with 1 Axes>"
            ],
            "image/png": "[encoded data removed]"
          },
          "metadata": {}
        }
      ]
    },
    {
      "cell_type": "code",
      "source": [
        "'''\n",
        "The Z score explains that how far the data point is away from the mean\n",
        "for example:- In our tips data set for total bill\n",
        "for the first bill of 16.99 the z score is -0.31 hence it states that the bill is about 0.31 standard devaition away from the mean which is 19.79\n",
        "for the second bill of 10.34 the z score is -1.06 hence it states that the bill is about 1.06 standard deviation away from the mean.\n",
        "the same analogy if followed for all other data points w.r.t the z scores\n",
        "'''"
      ],
      "metadata": {
        "id": "wTtr3alhH16x"
      },
      "execution_count": null,
      "outputs": []
    }
  ]
}